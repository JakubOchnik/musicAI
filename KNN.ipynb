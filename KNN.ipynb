{
 "cells": [
  {
   "source": [
    "# MusicAI\n",
    "## Sztuczna Inteligencja - projekt \n",
    "### Część 4 - Uczenie z klasyfikatorem KNN\n",
    "Autorzy: Jakub Ochnik, Adam Karabiniewicz, Marcel Bieniek\n",
    "___"
   ],
   "cell_type": "markdown",
   "metadata": {}
  },
  {
   "cell_type": "markdown",
   "metadata": {},
   "source": [
    "TO-DO: new vector from mfcc"
   ]
  },
  {
   "cell_type": "code",
   "execution_count": 1,
   "metadata": {},
   "outputs": [],
   "source": [
    "import json\n",
    "import math\n",
    "import numpy as np\n",
    "from sklearn.model_selection import train_test_split\n",
    "from sklearn.preprocessing import StandardScaler\n",
    "from sklearn.neighbors import KNeighborsClassifier\n",
    "from sklearn.metrics import confusion_matrix\n",
    "from sklearn.metrics import f1_score\n",
    "from sklearn.metrics import accuracy_score "
   ]
  },
  {
   "cell_type": "code",
   "execution_count": 2,
   "metadata": {},
   "outputs": [],
   "source": [
    "DATA_PATH = \"Data\\\\data.json\""
   ]
  },
  {
   "cell_type": "code",
   "execution_count": 3,
   "metadata": {},
   "outputs": [],
   "source": [
    "def load_data(data_path):\n",
    "    \"\"\"Loads training dataset from json file.\n",
    "        :param data_path (str): Path to json file containing data\n",
    "        :return X (ndarray): Inputs\n",
    "        :return y (ndarray): Targets\n",
    "    \"\"\"\n",
    "\n",
    "    with open(data_path, \"r\") as fp:\n",
    "        data = json.load(fp)\n",
    "\n",
    "    # convert lists to numpy arrays\n",
    "    X = np.array(data[\"mfcc\"])\n",
    "    y = np.array(data[\"labels\"])\n",
    "\n",
    "    print(\"Data succesfully loaded!\")\n",
    "\n",
    "    return  X, y"
   ]
  },
  {
   "cell_type": "code",
   "execution_count": 4,
   "metadata": {},
   "outputs": [
    {
     "output_type": "stream",
     "name": "stdout",
     "text": [
      "Data succesfully loaded!\n"
     ]
    }
   ],
   "source": [
    "X, y = load_data(DATA_PATH)"
   ]
  },
  {
   "cell_type": "code",
   "execution_count": 5,
   "metadata": {},
   "outputs": [
    {
     "output_type": "stream",
     "name": "stdout",
     "text": [
      "(9996, 130, 13)\n"
     ]
    }
   ],
   "source": [
    "print(X.shape)"
   ]
  },
  {
   "cell_type": "code",
   "execution_count": 24,
   "metadata": {},
   "outputs": [],
   "source": [
    "X_train, X_test, y_train, y_test = train_test_split(X, y, random_state=0, test_size=0.3)"
   ]
  },
  {
   "cell_type": "markdown",
   "metadata": {},
   "source": [
    "# Convert mfcc to vector "
   ]
  },
  {
   "cell_type": "code",
   "execution_count": 25,
   "metadata": {},
   "outputs": [
    {
     "name": "stdout",
     "output_type": "stream",
     "text": [
      "(2999, 130, 13)\n",
      "(2999, 1690)\n",
      "(6997, 130, 13)\n",
      "(6997, 1690)\n"
     ]
    }
   ],
   "source": [
    "nsamples_test, nx_test, ny_test = X_test.shape\n",
    "d2_X_test = X_test.reshape((nsamples_test,nx_test*ny_test))\n",
    "print(X_test.shape)\n",
    "print(d2_X_test.shape)\n",
    "\n",
    "nsamples_train, nx_train, ny_train = X_train.shape\n",
    "d2_X_train = X_train.reshape((nsamples_train,nx_train*ny_train))\n",
    "print(X_train.shape)\n",
    "print(d2_X_train.shape)"
   ]
  },
  {
   "cell_type": "code",
   "execution_count": 26,
   "metadata": {},
   "outputs": [],
   "source": [
    "# scaling \n",
    "X_sc = StandardScaler()\n",
    "d2_X_train = X_sc.fit_transform(d2_X_train)\n",
    "d2_X_test = X_sc.transform(d2_X_test)"
   ]
  },
  {
   "cell_type": "code",
   "execution_count": 29,
   "metadata": {},
   "outputs": [
    {
     "name": "stdout",
     "output_type": "stream",
     "text": [
      "54\n"
     ]
    }
   ],
   "source": [
    "k = math.isqrt(len(y_test))\n",
    "print(k)"
   ]
  },
  {
   "cell_type": "code",
   "execution_count": 35,
   "metadata": {},
   "outputs": [
    {
     "data": {
      "text/plain": [
       "array([5, 0, 6, ..., 6, 9, 9])"
      ]
     },
     "execution_count": 35,
     "metadata": {},
     "output_type": "execute_result"
    }
   ],
   "source": [
    "classifier = KNeighborsClassifier(n_neighbors=k-1)#, metric = 'euclidean')\n",
    "classifier.fit(d2_X_train, y_train)\n",
    "\n",
    "y_pred = classifier.predict(d2_X_test)\n",
    "y_pred"
   ]
  },
  {
   "cell_type": "code",
   "execution_count": 36,
   "metadata": {},
   "outputs": [
    {
     "name": "stdout",
     "output_type": "stream",
     "text": [
      "[[ 84  18   0   1   0 109  62   0   0  14]\n",
      " [  0 270   0   0   0  24   1   0   0   0]\n",
      " [  1  61  21   0   0 175   9   1   0  46]\n",
      " [  2   7   6  41   1 105  47   5   0  67]\n",
      " [  1   3  15  16  20 118  84  21   1  23]\n",
      " [  0  59   0   0   0 243   2   0   0   0]\n",
      " [  1   1   2   0   0  11 278   0   0  11]\n",
      " [  0  11   4  10   0  80   0 158   0  24]\n",
      " [  0  15   7   3  12 215  12   9  12  25]\n",
      " [  4  15   5   6   0 121  42   2   0 119]]\n"
     ]
    }
   ],
   "source": [
    "cm = confusion_matrix(y_test, y_pred)\n",
    "print(cm)"
   ]
  },
  {
   "cell_type": "code",
   "execution_count": 40,
   "metadata": {},
   "outputs": [
    {
     "name": "stdout",
     "output_type": "stream",
     "text": [
      "Accuracy :  41.547182394131376\n",
      "F1_score :  41.547182394131376\n"
     ]
    }
   ],
   "source": [
    "print('Accuracy : ' ,accuracy_score(y_test, y_pred)*100 )\n",
    "print('F1_score : ' ,f1_score(y_test, y_pred, average='micro')*100)"
   ]
  },
  {
   "cell_type": "code",
   "execution_count": null,
   "metadata": {},
   "outputs": [],
   "source": []
  }
 ],
 "metadata": {
  "kernelspec": {
   "name": "python379jvsc74a57bd0c8f1dbbf69973cc4b6583c327e15469e0625ce5e766b6de5a5209808bda28079",
   "display_name": "Python 3.7.9 64-bit"
  },
  "language_info": {
   "codemirror_mode": {
    "name": "ipython",
    "version": 3
   },
   "file_extension": ".py",
   "mimetype": "text/x-python",
   "name": "python",
   "nbconvert_exporter": "python",
   "pygments_lexer": "ipython3",
   "version": "3.7.9"
  }
 },
 "nbformat": 4,
 "nbformat_minor": 5
}