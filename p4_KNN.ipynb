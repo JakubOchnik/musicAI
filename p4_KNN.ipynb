{
 "cells": [
  {
   "cell_type": "markdown",
   "metadata": {},
   "source": [
    "# MusicAI\n",
    "## Sztuczna Inteligencja - projekt \n",
    "### Część 5 - Klasyfikator K-Nearest Neighbours\n",
    "Autorzy: Jakub Ochnik, Adam Karabiniewicz, Marcel Bieniek\n",
    "___\n"
   ]
  },
  {
   "source": [
    "Importing necessary libraries and packages"
   ],
   "cell_type": "markdown",
   "metadata": {}
  },
  {
   "cell_type": "code",
   "execution_count": null,
   "metadata": {},
   "outputs": [],
   "source": [
    "import json\n",
    "import math\n",
    "import numpy as np\n",
    "import seaborn as sn\n",
    "import tensorflow as tf\n",
    "import matplotlib.pyplot as plt\n",
    "from sklearn.model_selection import train_test_split\n",
    "from sklearn.preprocessing import StandardScaler\n",
    "from sklearn.neighbors import KNeighborsClassifier\n",
    "from sklearn.metrics import confusion_matrix\n",
    "from sklearn.metrics import f1_score\n",
    "from sklearn.metrics import accuracy_score "
   ]
  },
  {
   "source": [
    "Defining constants"
   ],
   "cell_type": "markdown",
   "metadata": {}
  },
  {
   "cell_type": "code",
   "execution_count": null,
   "metadata": {},
   "outputs": [],
   "source": [
    "DATA_PATH = \"Data\\\\data.json\"\n",
    "GENRE_LIST = ['blues','classical','country','disco','hiphop','jazz','metal','pop','reggae','rock']"
   ]
  },
  {
   "source": [
    "Loading dataset"
   ],
   "cell_type": "markdown",
   "metadata": {}
  },
  {
   "cell_type": "code",
   "execution_count": null,
   "metadata": {},
   "outputs": [],
   "source": [
    "def load_data(data_path):\n",
    "    with open(data_path, \"r\") as fp:\n",
    "        data = json.load(fp)\n",
    "\n",
    "    # convert lists to numpy arrays\n",
    "    X = np.array(data[\"mfcc\"])\n",
    "    y = np.array(data[\"labels\"])\n",
    "\n",
    "    # Convert mfcc to vector\n",
    "    flatten_X = []\n",
    "    for i in range(len(X)):\n",
    "        flatten_X.append(X[i].flatten())\n",
    "\n",
    "    np_X = np.array(flatten_X)\n",
    "    \n",
    "    print(\"X len =\",len(np_X))\n",
    "    print(\"y len =\",len(np_X))\n",
    "    print(\"Data succesfully loaded!\")\n",
    "\n",
    "    return  np_X, y"
   ]
  },
  {
   "cell_type": "code",
   "execution_count": null,
   "metadata": {},
   "outputs": [],
   "source": [
    "X, y = load_data(DATA_PATH)"
   ]
  },
  {
   "cell_type": "code",
   "execution_count": null,
   "metadata": {},
   "outputs": [],
   "source": [
    "print(X.shape)"
   ]
  },
  {
   "source": [
    "Splitting the data into train and test sets"
   ],
   "cell_type": "markdown",
   "metadata": {}
  },
  {
   "cell_type": "code",
   "execution_count": null,
   "metadata": {},
   "outputs": [],
   "source": [
    "X_train, X_test, y_train, y_test = train_test_split(X, y, random_state=0, test_size=0.3)"
   ]
  },
  {
   "cell_type": "code",
   "execution_count": null,
   "metadata": {},
   "outputs": [],
   "source": [
    "# nsamples_test, nx_test, ny_test = X_test.shape\n",
    "# d2_X_test = X_test.reshape((nsamples_test,nx_test*ny_test))\n",
    "# print(X_test.shape)\n",
    "# print(d2_X_test.shape)\n",
    "\n",
    "# nsamples_train, nx_train, ny_train = X_train.shape\n",
    "# d2_X_train = X_train.reshape((nsamples_train,nx_train*ny_train))\n",
    "# print(X_train.shape)\n",
    "# print(d2_X_train.shape)"
   ]
  },
  {
   "source": [
    "Scaling"
   ],
   "cell_type": "markdown",
   "metadata": {}
  },
  {
   "cell_type": "code",
   "execution_count": null,
   "metadata": {},
   "outputs": [],
   "source": [
    "X_sc = StandardScaler()\n",
    "X_train = X_sc.fit_transform(X_train)\n",
    "X_test = X_sc.transform(X_test)"
   ]
  },
  {
   "source": [
    "Calculating K parameter"
   ],
   "cell_type": "markdown",
   "metadata": {}
  },
  {
   "cell_type": "code",
   "execution_count": null,
   "metadata": {},
   "outputs": [],
   "source": [
    "print(int(len(y_test)/len(GENRE_LIST)))\n",
    "k = math.isqrt(int(len(y_test)/len(GENRE_LIST)))\n",
    "print(k)"
   ]
  },
  {
   "source": [
    "Creating and training the model"
   ],
   "cell_type": "markdown",
   "metadata": {}
  },
  {
   "cell_type": "code",
   "execution_count": null,
   "metadata": {},
   "outputs": [],
   "source": [
    "knn_classifier = KNeighborsClassifier(n_neighbors=3, weights='distance')\n",
    "knn_classifier.fit(X_train, y_train)\n",
    "\n",
    "knn_pred = knn_classifier.predict(X_test)"
   ]
  },
  {
   "cell_type": "code",
   "execution_count": null,
   "metadata": {},
   "outputs": [],
   "source": [
    "print('Accuracy : ' ,accuracy_score(y_test, knn_pred)*100, '%' )"
   ]
  },
  {
   "source": [
    "Generating heatmap"
   ],
   "cell_type": "markdown",
   "metadata": {}
  },
  {
   "cell_type": "code",
   "execution_count": null,
   "metadata": {},
   "outputs": [],
   "source": [
    "knn_confusion_matrix = confusion_matrix(y_test, knn_pred)\n",
    "print('KNN confusion_matrix:')\n",
    "print(knn_confusion_matrix)"
   ]
  },
  {
   "cell_type": "code",
   "execution_count": null,
   "metadata": {},
   "outputs": [],
   "source": [
    "plt.figure(figsize=(12, 10))\n",
    "plt.imshow(knn_confusion_matrix, interpolation='nearest', cmap=plt.cm.Blues)\n",
    "plt.title(\"Confusion matrix for KNN classification\")\n",
    "plt.colorbar()\n",
    "tick_marks = np.arange(len(GENRE_LIST))\n",
    "plt.xticks(tick_marks, GENRE_LIST, rotation = 45)\n",
    "plt.yticks(tick_marks, GENRE_LIST)\n",
    "plt.tight_layout()\n",
    "plt.ylabel('True label')\n",
    "plt.xlabel('Predicted label')\n",
    "plt.show()"
   ]
  },
  {
   "cell_type": "code",
   "execution_count": null,
   "metadata": {},
   "outputs": [],
   "source": [
    "fig, ax = plt.subplots(figsize=(12,10), facecolor='white')\n",
    "sn.heatmap(knn_confusion_matrix/np.sum(knn_confusion_matrix, axis = 1), annot=True, fmt='.2%', xticklabels=GENRE_LIST, yticklabels=GENRE_LIST, cmap='Blues')\n",
    "ax.set(xlabel=\"Predicted labels\", ylabel=\"Actual labels\")\n",
    "print(\"Number of songs for each genre:\", np.sum(knn_confusion_matrix, axis = 1))"
   ]
  }
 ],
 "metadata": {
  "kernelspec": {
   "display_name": "Python 3",
   "language": "python",
   "name": "python3"
  },
  "language_info": {
   "codemirror_mode": {
    "name": "ipython",
    "version": 3
   },
   "file_extension": ".py",
   "mimetype": "text/x-python",
   "name": "python",
   "nbconvert_exporter": "python",
   "pygments_lexer": "ipython3",
   "version": "3.8.5"
  }
 },
 "nbformat": 4,
 "nbformat_minor": 5
}