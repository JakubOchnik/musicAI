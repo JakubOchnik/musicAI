{
 "metadata": {
  "language_info": {
   "codemirror_mode": {
    "name": "ipython",
    "version": 3
   },
   "file_extension": ".py",
   "mimetype": "text/x-python",
   "name": "python",
   "nbconvert_exporter": "python",
   "pygments_lexer": "ipython3",
   "version": "3.7.9"
  },
  "orig_nbformat": 2,
  "kernelspec": {
   "name": "python379jvsc74a57bd0c8f1dbbf69973cc4b6583c327e15469e0625ce5e766b6de5a5209808bda28079",
   "display_name": "Python 3.7.9 64-bit"
  }
 },
 "nbformat": 4,
 "nbformat_minor": 2,
 "cells": [
  {
   "source": [
    "# MusicAI\n",
    "## Sztuczna Inteligencja - projekt \n",
    "### Część 2 - przygotowanie danych\n",
    "Autorzy: Jakub Ochnik, Adam Karabiniewicz, Marcel Bieniek\n",
    "___\n"
   ],
   "cell_type": "markdown",
   "metadata": {}
  },
  {
   "source": [
    "Importing necessary libraries and packages"
   ],
   "cell_type": "markdown",
   "metadata": {}
  },
  {
   "source": [
    "import librosa\n",
    "import math\n",
    "import os\n",
    "import json"
   ],
   "cell_type": "code",
   "metadata": {},
   "execution_count": null,
   "outputs": []
  },
  {
   "source": [
    "Defining constants"
   ],
   "cell_type": "markdown",
   "metadata": {}
  },
  {
   "cell_type": "code",
   "execution_count": null,
   "metadata": {},
   "outputs": [],
   "source": [
    "DATASET_PATH = \"Data\\\\genres_original\\\\\"\n",
    "JSON_PATH = \"Data\\\\data.json\"\n",
    "\n",
    "SAMPLE_RATE = 22050\n",
    "DURATION = 30 # seconds\n",
    "SAMPLES_PER_TRACK = SAMPLE_RATE * DURATION\n",
    "\n",
    "SET_SIZE = 0.25"
   ]
  },
  {
   "source": [
    "A function which generates a JSON dataset"
   ],
   "cell_type": "markdown",
   "metadata": {}
  },
  {
   "cell_type": "code",
   "execution_count": null,
   "metadata": {},
   "outputs": [],
   "source": [
    "def export_mfcc(dataset_path, json_path, n_mfcc=13, n_fft=2048, hop_length=512, num_segments=5):\n",
    "    # main data structure\n",
    "    data = {\n",
    "        \"mapping\": [], # different genre labels\n",
    "        \"mfcc\": [], # training inputs\n",
    "        \"labels\": [] # outputs, targets\n",
    "    }\n",
    "\n",
    "    num_samples_per_segment = SAMPLES_PER_TRACK // num_segments\n",
    "    expected_num_mfcc_vectors_per_segment = math.ceil(num_samples_per_segment / hop_length)\n",
    "\n",
    "    # loop through all the genres\n",
    "    for i, (dirpath, dirname, filenames) in enumerate(os.walk(dataset_path)):\n",
    "        if dirpath != dataset_path:\n",
    "            # save the semantic label - mapping\n",
    "            dirpath_components = dirpath.split(\"\\\\\") # e.g genre/blues => [\"genre, \"blues\"]\n",
    "            semantic_label = dirpath_components[-1]\n",
    "            data[\"mapping\"].append(semantic_label)\n",
    "            print(\"\\nProcessing {}\".format(semantic_label))\n",
    "\n",
    "            # process files for each specific genre\n",
    "            file_num = 0\n",
    "            for f in filenames:\n",
    "                if file_num > math.ceil(len(filenames) * SET_SIZE):\n",
    "                    break\n",
    "                file_num += 1\n",
    "                # load audio file\n",
    "                file_path = os.path.join(dirpath, f)\n",
    "                signal, sr = librosa.load(file_path, sr = SAMPLE_RATE)               \n",
    "                \n",
    "                # divide into segments\n",
    "                for s in range(num_segments):\n",
    "                    start_sample = num_samples_per_segment * s\n",
    "                    finish_sample = start_sample + num_samples_per_segment\n",
    "\n",
    "                    mfcc = librosa.feature.mfcc(signal[start_sample:finish_sample], sr=sr, n_mfcc=n_mfcc, n_fft=n_fft, hop_length=hop_length)\n",
    "                    mfcc = mfcc.T\n",
    "\n",
    "                    # check expected length\n",
    "                    if len(mfcc) == expected_num_mfcc_vectors_per_segment:\n",
    "                        data[\"mfcc\"].append(mfcc.tolist()) #np array -> list\n",
    "                        data[\"labels\"].append(i-1)\n",
    "                        print(\"{}, segment: {}\".format(file_path, s))\n",
    "    \n",
    "    with open(json_path, \"w\") as fp:\n",
    "        json.dump(data, fp, indent=4)"
   ]
  },
  {
   "source": [
    "Generate the dataset (careful, almost 20 million lines, 600+ MB)"
   ],
   "cell_type": "markdown",
   "metadata": {}
  },
  {
   "cell_type": "code",
   "execution_count": null,
   "metadata": {
    "tags": [
     "outputPrepend"
    ]
   },
   "outputs": [],
   "source": [
    "export_mfcc(DATASET_PATH, JSON_PATH, num_segments=10)"
   ]
  }
 ]
}