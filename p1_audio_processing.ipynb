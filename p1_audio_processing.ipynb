{
 "metadata": {
  "language_info": {
   "codemirror_mode": {
    "name": "ipython",
    "version": 3
   },
   "file_extension": ".py",
   "mimetype": "text/x-python",
   "name": "python",
   "nbconvert_exporter": "python",
   "pygments_lexer": "ipython3",
   "version": "3.7.9"
  },
  "orig_nbformat": 2,
  "kernelspec": {
   "name": "python379jvsc74a57bd0c8f1dbbf69973cc4b6583c327e15469e0625ce5e766b6de5a5209808bda28079",
   "display_name": "Python 3.7.9 64-bit"
  }
 },
 "nbformat": 4,
 "nbformat_minor": 2,
 "cells": [
  {
   "source": [
    "# MusicAI\n",
    "## Sztuczna Inteligencja - projekt \n",
    "### Część 1 - przetwarzanie dźwięku (przygotowanie danych)\n",
    "Autorzy: Jakub Ochnik, Adam Karabiniewicz, Marcel Bieniek\n",
    "___\n"
   ],
   "cell_type": "markdown",
   "metadata": {}
  },
  {
   "source": [
    "Importing necessary libraries and packages"
   ],
   "cell_type": "markdown",
   "metadata": {}
  },
  {
   "source": [
    "import librosa, librosa.display\n",
    "import matplotlib.pyplot as plt\n",
    "import numpy as np"
   ],
   "cell_type": "code",
   "metadata": {},
   "execution_count": null,
   "outputs": []
  },
  {
   "source": [
    "Load audio file"
   ],
   "cell_type": "markdown",
   "metadata": {}
  },
  {
   "cell_type": "code",
   "execution_count": null,
   "metadata": {},
   "outputs": [],
   "source": [
    "file = \"blues.00000.wav\"\n",
    "folder = \"Data\\\\genres_original\\\\blues\\\\\"\n",
    "path = folder + file\n",
    "\n",
    "signal, sr = librosa.load(path, sr = 22050) # sr: sample rate\n",
    "# len(signal) = sr * t\n",
    "print(len(signal))"
   ]
  },
  {
   "source": [
    "Visualizing the waveform"
   ],
   "cell_type": "markdown",
   "metadata": {}
  },
  {
   "cell_type": "code",
   "execution_count": null,
   "metadata": {},
   "outputs": [],
   "source": [
    "librosa.display.waveplot(signal, sr = sr)\n",
    "plt.xlabel(\"Time [s]\")\n",
    "plt.ylabel(\"Amplitude\")\n",
    "plt.show()"
   ]
  },
  {
   "source": [
    "Transition from time to frequency domain"
   ],
   "cell_type": "markdown",
   "metadata": {}
  },
  {
   "cell_type": "code",
   "execution_count": null,
   "metadata": {},
   "outputs": [],
   "source": [
    "fft = np.fft.fft(signal) \n",
    "# complex values -> magnitudes\n",
    "magnitude = np.abs(fft)\n",
    "frequency = np.linspace(0, sr, len(magnitude))\n",
    "\n",
    "# cut the plot in half\n",
    "left_freq = frequency[:len(frequency)//2]\n",
    "left_magn = magnitude[:len(magnitude)//2]\n"
   ]
  },
  {
   "source": [
    "Visualize the power spectrum"
   ],
   "cell_type": "markdown",
   "metadata": {}
  },
  {
   "cell_type": "code",
   "execution_count": null,
   "metadata": {},
   "outputs": [],
   "source": [
    "plt.plot(left_freq, left_magn)\n",
    "plt.xlabel(\"Frequency [Hz]\")\n",
    "plt.ylabel(\"Magnitude\")\n",
    "plt.show()"
   ]
  },
  {
   "source": [
    "Create a spectrogram"
   ],
   "cell_type": "markdown",
   "metadata": {}
  },
  {
   "cell_type": "code",
   "execution_count": null,
   "metadata": {},
   "outputs": [],
   "source": [
    "# STFT\n",
    "n_fft = 2048\n",
    "hop_length = 512\n",
    "\n",
    "stft = librosa.core.stft(signal, hop_length=hop_length, n_fft=n_fft)\n",
    "\n",
    "spectrogram = np.abs(stft)"
   ]
  },
  {
   "source": [
    "Visualize the spectrogram"
   ],
   "cell_type": "markdown",
   "metadata": {}
  },
  {
   "cell_type": "code",
   "execution_count": null,
   "metadata": {},
   "outputs": [],
   "source": [
    "# calculate log spectrogram (log scale)\n",
    "log_spectrogram = librosa.amplitude_to_db(spectrogram)\n",
    "img = librosa.display.specshow(log_spectrogram, sr=sr, hop_length=hop_length, y_axis='linear', x_axis='time') # heatmap-like graph\n",
    "plt.xlabel(\"Time [s]\")\n",
    "plt.ylabel(\"Frequency [Hz]\")\n",
    "plt.colorbar(img, format =\"%+2.d dB\")\n",
    "plt.plot()\n"
   ]
  },
  {
   "source": [
    "Extracting MFCCs"
   ],
   "cell_type": "markdown",
   "metadata": {}
  },
  {
   "cell_type": "code",
   "execution_count": null,
   "metadata": {},
   "outputs": [],
   "source": [
    "n_mfcc = 13\n",
    "MFCCs = librosa.feature.mfcc(signal, n_fft=n_fft, hop_length=hop_length, n_mfcc=n_mfcc)\n"
   ]
  },
  {
   "source": [
    "Visualizing MFCCs"
   ],
   "cell_type": "markdown",
   "metadata": {}
  },
  {
   "cell_type": "code",
   "execution_count": null,
   "metadata": {},
   "outputs": [],
   "source": [
    "librosa.display.specshow(MFCCs, sr=sr, hop_length=hop_length, x_axis='time')\n",
    "plt.xlabel(\"Time [s]\")\n",
    "plt.ylabel(\"MFCC\")\n",
    "plt.colorbar()\n",
    "plt.plot()"
   ]
  }
 ]
}