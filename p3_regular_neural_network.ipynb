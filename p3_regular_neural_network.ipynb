{
 "metadata": {
  "language_info": {
   "codemirror_mode": {
    "name": "ipython",
    "version": 3
   },
   "file_extension": ".py",
   "mimetype": "text/x-python",
   "name": "python",
   "nbconvert_exporter": "python",
   "pygments_lexer": "ipython3",
   "version": "3.7.9"
  },
  "orig_nbformat": 2,
  "kernelspec": {
   "name": "python379jvsc74a57bd0c8f1dbbf69973cc4b6583c327e15469e0625ce5e766b6de5a5209808bda28079",
   "display_name": "Python 3.7.9 64-bit"
  }
 },
 "nbformat": 4,
 "nbformat_minor": 2,
 "cells": [
  {
   "source": [
    "# MusicAI\n",
    "## Sztuczna Inteligencja - projekt \n",
    "### Część 3 - prosta sieć neuronowa\n",
    "Autorzy: Jakub Ochnik, Adam Karabiniewicz, Marcel Bieniek\n",
    "___\n"
   ],
   "cell_type": "markdown",
   "metadata": {}
  },
  {
   "source": [
    "Importing necessary libraries and packages"
   ],
   "cell_type": "markdown",
   "metadata": {}
  },
  {
   "cell_type": "code",
   "execution_count": null,
   "metadata": {},
   "outputs": [],
   "source": [
    "import numpy as np\n",
    "import math\n",
    "import json\n",
    "from sklearn.model_selection import train_test_split\n",
    "import tensorflow.keras as keras\n",
    "import matplotlib.pyplot as plt\n",
    "import tensorflow as tf"
   ]
  },
  {
   "source": [
    "Constants"
   ],
   "cell_type": "markdown",
   "metadata": {}
  },
  {
   "cell_type": "code",
   "execution_count": null,
   "metadata": {},
   "outputs": [],
   "source": [
    "DATA_PATH = \"Data\\\\data_full.json\""
   ]
  },
  {
   "source": [
    "Loading dataset"
   ],
   "cell_type": "markdown",
   "metadata": {}
  },
  {
   "cell_type": "code",
   "execution_count": null,
   "metadata": {},
   "outputs": [],
   "source": [
    "def load_data(data_path):\n",
    "    with open(data_path, \"r\") as fp:\n",
    "        data = json.load(fp)\n",
    "\n",
    "    \"\"\"\n",
    "    inputs -> X\n",
    "    outputs -> y\n",
    "    \"\"\"\n",
    "\n",
    "    X = np.array(data[\"mfcc\"])\n",
    "    y = np.array(data[\"labels\"])\n",
    "    names = data[\"mapping\"]\n",
    "\n",
    "    print(\"Data succesfully loaded!\")\n",
    "\n",
    "    return X, y, names"
   ]
  },
  {
   "cell_type": "code",
   "execution_count": null,
   "metadata": {},
   "outputs": [],
   "source": [
    "X, y, names = load_data(DATA_PATH)\n",
    "\n",
    "print(\"Number of segments: {} \\n Number of labels: {}\".format(len(X), len(y)))"
   ]
  },
  {
   "source": [
    "Splitting the data into train and test sets"
   ],
   "cell_type": "markdown",
   "metadata": {}
  },
  {
   "cell_type": "code",
   "execution_count": null,
   "metadata": {},
   "outputs": [],
   "source": [
    "X_train, X_test, y_train, y_test = train_test_split(X,y,test_size=0.3)"
   ]
  },
  {
   "cell_type": "code",
   "execution_count": null,
   "metadata": {},
   "outputs": [],
   "source": [
    "print(X.shape)"
   ]
  },
  {
   "source": [
    "Build the network"
   ],
   "cell_type": "markdown",
   "metadata": {}
  },
  {
   "cell_type": "code",
   "execution_count": null,
   "metadata": {},
   "outputs": [],
   "source": [
    "model = keras.Sequential([\n",
    "    # input layer\n",
    "    keras.layers.Flatten(input_shape=(X.shape[1],X.shape[2])),\n",
    "    # 1st hidden layer\n",
    "    keras.layers.Dense(512, activation=\"relu\", kernel_regularizer=keras.regularizers.l2(0.001)),\n",
    "    keras.layers.Dropout(0.3),\n",
    "    # 2nd hidden layer\n",
    "    keras.layers.Dense(256, activation=\"relu\", kernel_regularizer=keras.regularizers.l2(0.001)),\n",
    "    keras.layers.Dropout(0.3),\n",
    "    # 3rd hidden layer\n",
    "    keras.layers.Dense(64, activation=\"relu\", kernel_regularizer=keras.regularizers.l2(0.001)),\n",
    "    keras.layers.Dropout(0.3),\n",
    "    # output layer\n",
    "    # 10 neurons = 10 genres\n",
    "    keras.layers.Dense(10, activation=\"softmax\")    \n",
    "])"
   ]
  },
  {
   "source": [
    "Compiling the network"
   ],
   "cell_type": "markdown",
   "metadata": {}
  },
  {
   "cell_type": "code",
   "execution_count": null,
   "metadata": {},
   "outputs": [],
   "source": [
    "# Adam - extension of classic gradient descent\n",
    "optimizer = keras.optimizers.Adam(learning_rate=0.0001)\n",
    "model.compile(optimizer=optimizer, loss=\"sparse_categorical_crossentropy\", metrics=[\"accuracy\"])\n",
    "model.summary()"
   ]
  },
  {
   "source": [
    "Training the network"
   ],
   "cell_type": "markdown",
   "metadata": {}
  },
  {
   "cell_type": "code",
   "execution_count": null,
   "metadata": {},
   "outputs": [],
   "source": [
    "history = model.fit(X_train, y_train, validation_data=(X_test, y_test), epochs=100, batch_size=32)"
   ]
  },
  {
   "source": [
    "Plot accuracy and error over epochs"
   ],
   "cell_type": "markdown",
   "metadata": {}
  },
  {
   "cell_type": "code",
   "execution_count": null,
   "metadata": {},
   "outputs": [],
   "source": [
    "def plot_history(history):\n",
    "    fig, axs = plt.subplots(2)\n",
    "    # accuracy subplot\n",
    "    axs[0].plot(history.history[\"accuracy\"], label=\"Training accuracy\")\n",
    "    axs[0].plot(history.history[\"val_accuracy\"], label=\"Test accuracy\")\n",
    "\n",
    "    axs[0].set_ylabel(\"Accuracy\")\n",
    "    axs[0].legend(loc=\"lower right\")\n",
    "    axs[0].set_title(\"Accuracy\")\n",
    "\n",
    "    # error subplot\n",
    "    axs[1].plot(history.history[\"loss\"], label=\"Training error\")\n",
    "    axs[1].plot(history.history[\"val_loss\"], label=\"Test error\")\n",
    "\n",
    "    axs[1].set_ylabel(\"Error\")\n",
    "    axs[1].set_xlabel(\"Epoch\")\n",
    "    axs[1].legend(loc=\"upper right\")\n",
    "    axs[1].set_title(\"Error\")\n",
    "\n",
    "    plt.show()"
   ]
  },
  {
   "cell_type": "code",
   "execution_count": null,
   "metadata": {},
   "outputs": [],
   "source": [
    "plot_history(history)"
   ]
  },
  {
   "cell_type": "code",
   "execution_count": null,
   "metadata": {},
   "outputs": [],
   "source": [
    "test_error, test_accuracy = model.evaluate(X_test, y_test, verbose = 1)\n",
    "print(\"Model accuracy: {}\".format(test_accuracy))"
   ]
  },
  {
   "source": [
    "Generating heatmap"
   ],
   "cell_type": "markdown",
   "metadata": {}
  },
  {
   "cell_type": "code",
   "execution_count": null,
   "metadata": {},
   "outputs": [],
   "source": [
    "import seaborn as sn\n",
    "predictions = model.predict(X_test)\n",
    "pred_argmax = []\n",
    "\n",
    "for i in range(len(predictions)):\n",
    "    predicted_index = np.argmax(predictions[i])\n",
    "    pred_argmax.append(predicted_index)\n",
    "\n",
    "conf_matrix = tf.math.confusion_matrix(labels=y_test, predictions=pred_argmax)\n",
    "# print(conf_matrix)\n",
    "cat = ['blues','classical','country','disco','hiphop','jazz','metal','pop','reggae','rock']\n",
    "fig, ax = plt.subplots(figsize=(12,10), facecolor='white')\n",
    "sn.heatmap(conf_matrix/np.sum(conf_matrix, axis=1), annot=True, fmt='.2%', xticklabels=cat, yticklabels=cat, cmap='Blues')\n",
    "ax.set(xlabel=\"Predicted labels\", ylabel=\"Actual labels\")\n",
    "# print(np.sum(conf_matrix, axis=1))\n"
   ]
  },
  {
   "source": [
    "### Testing the network on custom examples"
   ],
   "cell_type": "markdown",
   "metadata": {}
  },
  {
   "source": [
    "Predicting the genre of a specific sample"
   ],
   "cell_type": "markdown",
   "metadata": {}
  },
  {
   "cell_type": "code",
   "execution_count": null,
   "metadata": {},
   "outputs": [],
   "source": [
    "def predict_sample(model, X):\n",
    "    # X -> 2D array (130, 13)\n",
    "    X = X[np.newaxis, ...]\n",
    "    predictions = model.predict(X)\n",
    "    predicted_index = np.argmax(predictions, axis=1)\n",
    "    #print(predicted_index)\n",
    "    return predicted_index[0]"
   ]
  },
  {
   "cell_type": "code",
   "execution_count": null,
   "metadata": {},
   "outputs": [],
   "source": [
    "'''\n",
    "# testing a specific sample\n",
    "x_n = X_test[103]\n",
    "y_n = y_test[103]\n",
    "\n",
    "predict_sample(model, x_n)\n",
    "'''"
   ]
  },
  {
   "source": [
    "Predicting the genre of custom imported song (30s)"
   ],
   "cell_type": "markdown",
   "metadata": {}
  },
  {
   "cell_type": "code",
   "execution_count": null,
   "metadata": {},
   "outputs": [],
   "source": [
    "import librosa\n",
    "import math\n",
    "import os\n",
    "import json\n",
    "\n",
    "# custom song prediction function\n",
    "def predict_song(model, data, orig_genre, names):\n",
    "    data = np.array(data)\n",
    "    preds = []\n",
    "    for X in data:\n",
    "        preds.append(predict_sample(model, X))\n",
    "    predicted = np.bincount(preds).argmax()\n",
    "    print(\"Expected genre: {}, Predicted genre: {}\".format(orig_genre,names[predicted]))\n",
    "\n",
    "# function to convert a song into data for the neural network\n",
    "def load_song(filename, n_mfcc=13, n_fft=2048, hop_length=512, num_segments=10):\n",
    "    SAMPLE_RATE = 22050\n",
    "    signal, sr = librosa.load(filename, sr = 22050)\n",
    "    DURATION = 30 # seconds\n",
    "    SAMPLES_PER_TRACK = SAMPLE_RATE * DURATION\n",
    "    num_samples_per_segment = SAMPLES_PER_TRACK // num_segments\n",
    "    expected_num_mfcc_vectors_per_segment = math.ceil(num_samples_per_segment / hop_length) # todo         \n",
    "    data = []    \n",
    "\n",
    "    # division into segments\n",
    "    for s in range(num_segments):\n",
    "        start_sample = num_samples_per_segment * s\n",
    "        finish_sample = start_sample + num_samples_per_segment\n",
    "\n",
    "        mfcc = librosa.feature.mfcc(signal[start_sample:finish_sample], sr=sr, n_mfcc=n_mfcc, n_fft=n_fft, hop_length=hop_length)\n",
    "        mfcc = mfcc.T\n",
    "        \n",
    "        if len(mfcc) == expected_num_mfcc_vectors_per_segment:\n",
    "            data.append(mfcc.tolist())\n",
    "    return data"
   ]
  },
  {
   "cell_type": "code",
   "execution_count": null,
   "metadata": {
    "tags": []
   },
   "outputs": [],
   "source": [
    "# songs are not included in the project files\n",
    "\n",
    "x_to_pred = load_song(\"Data/jazz_piano.wav\")\n",
    "predict_song(model, x_to_pred, \"jazz\", names)\n",
    "\n",
    "x_to_pred = load_song(\"Data/pop_rock.wav\")\n",
    "predict_song(model, x_to_pred, \"pop/rock\", names)\n",
    "\n",
    "x_to_pred = load_song(\"Data/classic_piano.wav\")\n",
    "predict_song(model, x_to_pred, \"classical\", names)\n",
    "\n",
    "x_to_pred = load_song(\"Data/classic_symphony.wav\")\n",
    "predict_song(model, x_to_pred, \"classical\", names)\n",
    "\n",
    "x_to_pred = load_song(\"Data/blues.wav\")\n",
    "predict_song(model, x_to_pred, \"blues\", names)\n",
    "\n",
    "x_to_pred = load_song(\"Data/blues_2.wav\")\n",
    "predict_song(model, x_to_pred, \"blues\", names)\n",
    "\n",
    "x_to_pred = load_song(\"Data/classic_piano2.wav\")\n",
    "predict_song(model, x_to_pred, \"classical\", names)\n",
    "\n",
    "x_to_pred = load_song(\"Data/mozart.wav\")\n",
    "predict_song(model, x_to_pred, \"classical\", names)\n",
    "\n",
    "x_to_pred = load_song(\"Data/rock_metal.wav\")\n",
    "predict_song(model, x_to_pred, \"rock/metal\", names)"
   ]
  }
 ]
}